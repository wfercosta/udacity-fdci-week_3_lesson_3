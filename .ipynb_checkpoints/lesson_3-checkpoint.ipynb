{
 "cells": [
  {
   "cell_type": "code",
   "execution_count": 4,
   "metadata": {
    "collapsed": true
   },
   "outputs": [],
   "source": [
    "import pandas as pd"
   ]
  },
  {
   "cell_type": "code",
   "execution_count": 6,
   "metadata": {},
   "outputs": [
    {
     "data": {
      "text/plain": [
       "UNIT                              R003\n",
       "DATEn                         05-01-11\n",
       "TIMEn                         00:00:00\n",
       "ENTRIESn                       4388333\n",
       "EXITSn                         2911002\n",
       "ENTRIESn_hourly                      0\n",
       "EXITSn_hourly                        0\n",
       "datetime           2011-05-01 00:00:00\n",
       "hour                                 0\n",
       "day_week                             6\n",
       "weekday                              0\n",
       "station                  CYPRESS HILLS\n",
       "latitude                       40.6899\n",
       "longitude                     -73.8726\n",
       "conds                            Clear\n",
       "fog                                  0\n",
       "precipi                              0\n",
       "pressurei                        30.22\n",
       "rain                                 0\n",
       "tempi                             55.9\n",
       "wspdi                              3.5\n",
       "meanprecipi                          0\n",
       "meanpressurei                   30.258\n",
       "meantempi                        55.98\n",
       "meanwspdi                         7.86\n",
       "weather_lat                    40.7003\n",
       "weather_lon                   -73.8872\n",
       "Name: 0, dtype: object"
      ]
     },
     "execution_count": 6,
     "metadata": {},
     "output_type": "execute_result"
    }
   ],
   "source": [
    "nyc_subway_weather = pd.read_csv('./dataset/nyc-subway-weather.csv')\n",
    "nyc_subway_weather.iloc[0]"
   ]
  },
  {
   "cell_type": "code",
   "execution_count": 6,
   "metadata": {
    "collapsed": true
   },
   "outputs": [],
   "source": []
  },
  {
   "cell_type": "code",
   "execution_count": 6,
   "metadata": {
    "collapsed": true
   },
   "outputs": [],
   "source": []
  },
  {
   "cell_type": "code",
   "execution_count": null,
   "metadata": {
    "collapsed": true
   },
   "outputs": [],
   "source": []
  }
 ],
 "metadata": {
  "kernelspec": {
   "display_name": "Python 2",
   "language": "python",
   "name": "python2"
  },
  "language_info": {
   "codemirror_mode": {
    "name": "ipython",
    "version": 2
   },
   "file_extension": ".py",
   "mimetype": "text/x-python",
   "name": "python",
   "nbconvert_exporter": "python",
   "pygments_lexer": "ipython2",
   "version": "2.7.14"
  }
 },
 "nbformat": 4,
 "nbformat_minor": 1
}
