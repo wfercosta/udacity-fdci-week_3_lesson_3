{
 "cells": [
  {
   "cell_type": "code",
   "execution_count": 4,
   "metadata": {
    "collapsed": true
   },
   "outputs": [],
   "source": [
    "import pandas as pd"
   ]
  },
  {
   "cell_type": "code",
   "execution_count": 6,
   "metadata": {},
   "outputs": [
    {
     "data": {
      "text/plain": [
       "UNIT                              R003\nDATEn                         05-01-11\nTIMEn                         00:00:00\nENTRIESn                       4388333\nEXITSn                         2911002\nENTRIESn_hourly                      0\nEXITSn_hourly                        0\ndatetime           2011-05-01 00:00:00\nhour                                 0\nday_week                             6\nweekday                              0\nstation                  CYPRESS HILLS\nlatitude                       40.6899\nlongitude                     -73.8726\nconds                            Clear\nfog                                  0\nprecipi                              0\npressurei                        30.22\nrain                                 0\ntempi                             55.9\nwspdi                              3.5\nmeanprecipi                          0\nmeanpressurei                   30.258\nmeantempi                        55.98\nmeanwspdi                         7.86\nweather_lat                    40.7003\nweather_lon                   -73.8872\nName: 0, dtype: object"
      ]
     },
     "execution_count": 6,
     "metadata": {},
     "output_type": "execute_result"
    }
   ],
   "source": [
    "nyc_subway_weather = pd.read_csv('./dataset/nyc-subway-weather.csv')\n",
    "nyc_subway_weather.iloc[0]"
   ]
  },
  {
   "cell_type": "code",
   "execution_count": 6,
   "metadata": {},
   "outputs": [],
   "source": []
  },
  {
   "cell_type": "code",
   "execution_count": 6,
   "metadata": {},
   "outputs": [],
   "source": []
  },
  {
   "cell_type": "code",
   "execution_count": null,
   "metadata": {},
   "outputs": [],
   "source": []
  }
 ],
 "metadata": {
  "kernelspec": {
   "display_name": "Python 2",
   "language": "python",
   "name": "python2"
  },
  "language_info": {
   "codemirror_mode": {
    "name": "ipython",
    "version": 2
   },
   "file_extension": ".py",
   "mimetype": "text/x-python",
   "name": "python",
   "nbconvert_exporter": "python",
   "pygments_lexer": "ipython2",
   "version": "2.7.6"
  }
 },
 "nbformat": 4,
 "nbformat_minor": 0
}
